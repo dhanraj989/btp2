{
 "cells": [
  {
   "cell_type": "code",
   "execution_count": 1,
   "id": "216ab87e-5d18-41d9-ad9d-37c4e72a8db7",
   "metadata": {},
   "outputs": [],
   "source": [
    "import pandas as pd\n",
    "import statsmodels.formula.api as smf\n",
    "import statsmodels.api as sm\n",
    "from statsmodels.graphics.tsaplots import plot_acf, plot_pacf\n",
    "from statsmodels.tsa.ar_model import AR\n",
    "from statsmodels.tsa.seasonal import seasonal_decompose\n",
    "from statsmodels.tsa.stattools import adfuller, acf, pacf\n",
    "import pandas as pd\n",
    "import numpy as np\n",
    "import matplotlib.pyplot as plt\n",
    "import seaborn as sns\n",
    "import itertools\n",
    "import math\n",
    "from statsmodels.tsa.arima.model import ARIMA\n",
    "import pmdarima as pm"
   ]
  },
  {
   "cell_type": "code",
   "execution_count": 2,
   "id": "3631765d-b20c-44af-b98e-6436ca9a3c89",
   "metadata": {},
   "outputs": [
    {
     "name": "stdout",
     "output_type": "stream",
     "text": [
      "                     PM2.5 (µg/m³)  PM10 (µg/m³)  NO (µg/m³)  NO2 (µg/m³)  \\\n",
      "PM2.5 (µg/m³)             1.000000      0.945895    0.402924     0.578399   \n",
      "PM10 (µg/m³)              0.945895      1.000000    0.415400     0.602774   \n",
      "NO (µg/m³)                0.402924      0.415400    1.000000     0.589346   \n",
      "NO2 (µg/m³)               0.578399      0.602774    0.589346     1.000000   \n",
      "NOx (ppb)                 0.541315      0.563648    0.860616     0.870930   \n",
      "NH3 (µg/m³)               0.305191      0.315169    0.196940     0.259006   \n",
      "SO2 (µg/m³)               0.329998      0.354382    0.084223     0.332977   \n",
      "CO (mg/m³)                0.642284      0.649653    0.636311     0.634489   \n",
      "Ozone (µg/m³)             0.030328      0.073840   -0.195621    -0.138651   \n",
      "Benzene (µg/m³)           0.502288      0.513828    0.430681     0.512070   \n",
      "Toluene (µg/m³)           0.496355      0.500900    0.439660     0.545152   \n",
      "Eth-Benzene (µg/m³)       0.415017      0.429584    0.301482     0.351807   \n",
      "MP-Xylene (µg/m³)         0.492407      0.500104    0.458333     0.448053   \n",
      "AT (°C)                  -0.572978     -0.519908   -0.320541    -0.446512   \n",
      "RH (%)                   -0.035556     -0.076318    0.045281    -0.015639   \n",
      "WS (m/s)                 -0.298630     -0.297727   -0.181599    -0.285925   \n",
      "WD (deg)                  0.378132      0.395101    0.056627     0.281209   \n",
      "TOT-RF (mm)              -0.040725     -0.046203   -0.014788    -0.027754   \n",
      "SR (W/mt2)               -0.107608     -0.093105   -0.105493    -0.174928   \n",
      "\n",
      "                     NOx (ppb)  NH3 (µg/m³)  SO2 (µg/m³)  CO (mg/m³)  \\\n",
      "PM2.5 (µg/m³)         0.541315     0.305191     0.329998    0.642284   \n",
      "PM10 (µg/m³)          0.563648     0.315169     0.354382    0.649653   \n",
      "NO (µg/m³)            0.860616     0.196940     0.084223    0.636311   \n",
      "NO2 (µg/m³)           0.870930     0.259006     0.332977    0.634489   \n",
      "NOx (ppb)             1.000000     0.244153     0.237978    0.698257   \n",
      "NH3 (µg/m³)           0.244153     1.000000     0.130628    0.227164   \n",
      "SO2 (µg/m³)           0.237978     0.130628     1.000000    0.174301   \n",
      "CO (mg/m³)            0.698257     0.227164     0.174301    1.000000   \n",
      "Ozone (µg/m³)        -0.176621    -0.055797     0.258463   -0.229784   \n",
      "Benzene (µg/m³)       0.520799     0.128259     0.142051    0.668181   \n",
      "Toluene (µg/m³)       0.537692     0.100479     0.181728    0.677521   \n",
      "Eth-Benzene (µg/m³)   0.345533     0.292449     0.097815    0.460479   \n",
      "MP-Xylene (µg/m³)     0.501234     0.262470     0.079671    0.547696   \n",
      "AT (°C)              -0.415832    -0.227051    -0.113368   -0.475862   \n",
      "RH (%)                0.008382     0.133276    -0.148399    0.092681   \n",
      "WS (m/s)             -0.257712    -0.128989    -0.037946   -0.292101   \n",
      "WD (deg)              0.171698     0.184042     0.340911    0.181003   \n",
      "TOT-RF (mm)          -0.023324     0.011631    -0.006720   -0.034609   \n",
      "SR (W/mt2)           -0.153527    -0.084925     0.116006   -0.181351   \n",
      "\n",
      "                     Ozone (µg/m³)  Benzene (µg/m³)  Toluene (µg/m³)  \\\n",
      "PM2.5 (µg/m³)             0.030328         0.502288         0.496355   \n",
      "PM10 (µg/m³)              0.073840         0.513828         0.500900   \n",
      "NO (µg/m³)               -0.195621         0.430681         0.439660   \n",
      "NO2 (µg/m³)              -0.138651         0.512070         0.545152   \n",
      "NOx (ppb)                -0.176621         0.520799         0.537692   \n",
      "NH3 (µg/m³)              -0.055797         0.128259         0.100479   \n",
      "SO2 (µg/m³)               0.258463         0.142051         0.181728   \n",
      "CO (mg/m³)               -0.229784         0.668181         0.677521   \n",
      "Ozone (µg/m³)             1.000000        -0.125740        -0.160602   \n",
      "Benzene (µg/m³)          -0.125740         1.000000         0.847108   \n",
      "Toluene (µg/m³)          -0.160602         0.847108         1.000000   \n",
      "Eth-Benzene (µg/m³)      -0.078313         0.413126         0.380890   \n",
      "MP-Xylene (µg/m³)        -0.096637         0.444088         0.437541   \n",
      "AT (°C)                   0.351275        -0.433898        -0.451308   \n",
      "RH (%)                   -0.416113         0.006932         0.067551   \n",
      "WS (m/s)                  0.151030        -0.202341        -0.202650   \n",
      "WD (deg)                  0.190554         0.196319         0.215091   \n",
      "TOT-RF (mm)              -0.009541        -0.011135        -0.018962   \n",
      "SR (W/mt2)                0.403830        -0.153988        -0.152301   \n",
      "\n",
      "                     Eth-Benzene (µg/m³)  MP-Xylene (µg/m³)   AT (°C)  \\\n",
      "PM2.5 (µg/m³)                   0.415017           0.492407 -0.572978   \n",
      "PM10 (µg/m³)                    0.429584           0.500104 -0.519908   \n",
      "NO (µg/m³)                      0.301482           0.458333 -0.320541   \n",
      "NO2 (µg/m³)                     0.351807           0.448053 -0.446512   \n",
      "NOx (ppb)                       0.345533           0.501234 -0.415832   \n",
      "NH3 (µg/m³)                     0.292449           0.262470 -0.227051   \n",
      "SO2 (µg/m³)                     0.097815           0.079671 -0.113368   \n",
      "CO (mg/m³)                      0.460479           0.547696 -0.475862   \n",
      "Ozone (µg/m³)                  -0.078313          -0.096637  0.351275   \n",
      "Benzene (µg/m³)                 0.413126           0.444088 -0.433898   \n",
      "Toluene (µg/m³)                 0.380890           0.437541 -0.451308   \n",
      "Eth-Benzene (µg/m³)             1.000000           0.818483 -0.267772   \n",
      "MP-Xylene (µg/m³)               0.818483           1.000000 -0.338299   \n",
      "AT (°C)                        -0.267772          -0.338299  1.000000   \n",
      "RH (%)                         -0.046002          -0.064698 -0.221036   \n",
      "WS (m/s)                       -0.192959          -0.240559  0.216676   \n",
      "WD (deg)                        0.189803           0.140650 -0.252075   \n",
      "TOT-RF (mm)                    -0.013672          -0.019554 -0.003455   \n",
      "SR (W/mt2)                     -0.150748          -0.182635  0.456822   \n",
      "\n",
      "                       RH (%)  WS (m/s)  WD (deg)  TOT-RF (mm)  SR (W/mt2)  \n",
      "PM2.5 (µg/m³)       -0.035556 -0.298630  0.378132    -0.040725   -0.107608  \n",
      "PM10 (µg/m³)        -0.076318 -0.297727  0.395101    -0.046203   -0.093105  \n",
      "NO (µg/m³)           0.045281 -0.181599  0.056627    -0.014788   -0.105493  \n",
      "NO2 (µg/m³)         -0.015639 -0.285925  0.281209    -0.027754   -0.174928  \n",
      "NOx (ppb)            0.008382 -0.257712  0.171698    -0.023324   -0.153527  \n",
      "NH3 (µg/m³)          0.133276 -0.128989  0.184042     0.011631   -0.084925  \n",
      "SO2 (µg/m³)         -0.148399 -0.037946  0.340911    -0.006720    0.116006  \n",
      "CO (mg/m³)           0.092681 -0.292101  0.181003    -0.034609   -0.181351  \n",
      "Ozone (µg/m³)       -0.416113  0.151030  0.190554    -0.009541    0.403830  \n",
      "Benzene (µg/m³)      0.006932 -0.202341  0.196319    -0.011135   -0.153988  \n",
      "Toluene (µg/m³)      0.067551 -0.202650  0.215091    -0.018962   -0.152301  \n",
      "Eth-Benzene (µg/m³) -0.046002 -0.192959  0.189803    -0.013672   -0.150748  \n",
      "MP-Xylene (µg/m³)   -0.064698 -0.240559  0.140650    -0.019554   -0.182635  \n",
      "AT (°C)             -0.221036  0.216676 -0.252075    -0.003455    0.456822  \n",
      "RH (%)               1.000000 -0.082164 -0.120477    -0.000050   -0.230321  \n",
      "WS (m/s)            -0.082164  1.000000 -0.129621     0.048014    0.270419  \n",
      "WD (deg)            -0.120477 -0.129621  1.000000    -0.000850    0.058149  \n",
      "TOT-RF (mm)         -0.000050  0.048014 -0.000850     1.000000   -0.028443  \n",
      "SR (W/mt2)          -0.230321  0.270419  0.058149    -0.028443    1.000000  \n"
     ]
    }
   ],
   "source": [
    "df = pd.read_csv('C:\\\\Users\\\\DHAN RAJ\\\\Downloads\\\\btp_forecast_preprocessed_data\\\\kolkata\\\\hourly\\\\imputed_hourly_kolkata_data.csv')\n",
    "df['Timestamp'] = pd.to_datetime(df['Timestamp'])\n",
    "data = df.drop(columns=['Timestamp'])\n",
    "# Assuming df is your DataFrame\n",
    "correlation_matrix = data.corr()\n",
    "print(correlation_matrix)"
   ]
  },
  {
   "cell_type": "code",
   "execution_count": 24,
   "id": "0d295f5a-a66f-441e-9d5a-8672eb883c49",
   "metadata": {},
   "outputs": [],
   "source": [
    "# Set correlation threshold\n",
    "threshold = 0.8\n",
    "\n",
    "# Find pairs with correlation above threshold\n",
    "highly_correlated_pairs = [(column1, 'PM2.5 (µg/m³)') for column1 in correlation_matrix.columns if abs(correlation_matrix[column1]['PM2.5 (µg/m³)']) > threshold and column1 != 'PM2.5 (µg/m³)']"
   ]
  },
  {
   "cell_type": "code",
   "execution_count": 25,
   "id": "ac33c81e-eb75-4da1-8e4f-7bf55fc3f3b9",
   "metadata": {},
   "outputs": [
    {
     "name": "stdout",
     "output_type": "stream",
     "text": [
      "\n",
      "Granger Causality Test for pair ('PM10 (µg/m³)', 'PM2.5 (µg/m³)'):\n",
      "\n",
      "Granger Causality\n",
      "number of lags (no zero) 1\n",
      "ssr based F test:         F=667.3604, p=0.0000  , df_denom=26276, df_num=1\n",
      "ssr based chi2 test:   chi2=667.4366, p=0.0000  , df=1\n",
      "likelihood ratio test: chi2=659.1016, p=0.0000  , df=1\n",
      "parameter F test:         F=667.3604, p=0.0000  , df_denom=26276, df_num=1\n",
      "\n",
      "Granger Causality\n",
      "number of lags (no zero) 2\n",
      "ssr based F test:         F=455.4433, p=0.0000  , df_denom=26273, df_num=2\n",
      "ssr based chi2 test:   chi2=911.0600, p=0.0000  , df=2\n",
      "likelihood ratio test: chi2=895.6225, p=0.0000  , df=2\n",
      "parameter F test:         F=455.4433, p=0.0000  , df_denom=26273, df_num=2\n",
      "\n",
      "Granger Causality\n",
      "number of lags (no zero) 3\n",
      "ssr based F test:         F=326.6176, p=0.0000  , df_denom=26270, df_num=3\n",
      "ssr based chi2 test:   chi2=980.1140, p=0.0000  , df=3\n",
      "likelihood ratio test: chi2=962.2774, p=0.0000  , df=3\n",
      "parameter F test:         F=326.6176, p=0.0000  , df_denom=26270, df_num=3\n",
      "\n",
      "Granger Causality\n",
      "number of lags (no zero) 4\n",
      "ssr based F test:         F=265.8089, p=0.0000  , df_denom=26267, df_num=4\n",
      "ssr based chi2 test:   chi2=1063.6001, p=0.0000  , df=4\n",
      "likelihood ratio test: chi2=1042.6377, p=0.0000  , df=4\n",
      "parameter F test:         F=265.8089, p=0.0000  , df_denom=26267, df_num=4\n",
      "\n",
      "Granger Causality\n",
      "number of lags (no zero) 5\n",
      "ssr based F test:         F=218.8618, p=0.0000  , df_denom=26264, df_num=5\n",
      "ssr based chi2 test:   chi2=1094.7673, p=0.0000  , df=5\n",
      "likelihood ratio test: chi2=1072.5746, p=0.0000  , df=5\n",
      "parameter F test:         F=218.8618, p=0.0000  , df_denom=26264, df_num=5\n",
      "\n",
      "Granger Causality\n",
      "number of lags (no zero) 6\n",
      "ssr based F test:         F=193.7391, p=0.0000  , df_denom=26261, df_num=6\n",
      "ssr based chi2 test:   chi2=1163.0098, p=0.0000  , df=6\n",
      "likelihood ratio test: chi2=1138.0049, p=0.0000  , df=6\n",
      "parameter F test:         F=193.7391, p=0.0000  , df_denom=26261, df_num=6\n",
      "\n",
      "Granger Causality\n",
      "number of lags (no zero) 7\n",
      "ssr based F test:         F=179.7290, p=0.0000  , df_denom=26258, df_num=7\n",
      "ssr based chi2 test:   chi2=1258.8215, p=0.0000  , df=7\n",
      "likelihood ratio test: chi2=1229.5944, p=0.0000  , df=7\n",
      "parameter F test:         F=179.7290, p=0.0000  , df_denom=26258, df_num=7\n",
      "\n",
      "Granger Causality\n",
      "number of lags (no zero) 8\n",
      "ssr based F test:         F=160.9592, p=0.0000  , df_denom=26255, df_num=8\n",
      "ssr based chi2 test:   chi2=1288.5076, p=0.0000  , df=8\n",
      "likelihood ratio test: chi2=1257.9068, p=0.0000  , df=8\n",
      "parameter F test:         F=160.9592, p=0.0000  , df_denom=26255, df_num=8\n",
      "\n",
      "Granger Causality\n",
      "number of lags (no zero) 9\n",
      "ssr based F test:         F=145.2511, p=0.0000  , df_denom=26252, df_num=9\n",
      "ssr based chi2 test:   chi2=1308.2059, p=0.0000  , df=9\n",
      "likelihood ratio test: chi2=1276.6763, p=0.0000  , df=9\n",
      "parameter F test:         F=145.2511, p=0.0000  , df_denom=26252, df_num=9\n",
      "\n",
      "Granger Causality\n",
      "number of lags (no zero) 10\n",
      "ssr based F test:         F=131.8372, p=0.0000  , df_denom=26249, df_num=10\n",
      "ssr based chi2 test:   chi2=1319.4271, p=0.0000  , df=10\n",
      "likelihood ratio test: chi2=1287.3619, p=0.0000  , df=10\n",
      "parameter F test:         F=131.8372, p=0.0000  , df_denom=26249, df_num=10\n",
      "\n",
      "Granger Causality\n",
      "number of lags (no zero) 11\n",
      "ssr based F test:         F=121.9311, p=0.0000  , df_denom=26246, df_num=11\n",
      "ssr based chi2 test:   chi2=1342.4177, p=0.0000  , df=11\n",
      "likelihood ratio test: chi2=1309.2427, p=0.0000  , df=11\n",
      "parameter F test:         F=121.9311, p=0.0000  , df_denom=26246, df_num=11\n",
      "\n",
      "Granger Causality\n",
      "number of lags (no zero) 12\n",
      "ssr based F test:         F=110.7202, p=0.0000  , df_denom=26243, df_num=12\n",
      "ssr based chi2 test:   chi2=1329.9076, p=0.0000  , df=12\n",
      "likelihood ratio test: chi2=1297.3369, p=0.0000  , df=12\n",
      "parameter F test:         F=110.7202, p=0.0000  , df_denom=26243, df_num=12\n"
     ]
    }
   ],
   "source": [
    "from statsmodels.tsa.stattools import grangercausalitytests\n",
    "\n",
    "# Apply Granger's Causality Test\n",
    "for pair in highly_correlated_pairs:\n",
    "    print()\n",
    "    print(f\"Granger Causality Test for pair {pair}:\")\n",
    "    granger_test_result = grangercausalitytests(df[list(pair)], maxlag=12)"
   ]
  },
  {
   "cell_type": "code",
   "execution_count": 26,
   "id": "fe35da55-e6ba-4284-a7a7-dbd0bce0eee8",
   "metadata": {},
   "outputs": [],
   "source": [
    "cols = [i[0] for i in highly_correlated_pairs]"
   ]
  },
  {
   "cell_type": "code",
   "execution_count": 27,
   "id": "200c73d3-8f22-475e-9f5b-d152a118a6e8",
   "metadata": {},
   "outputs": [],
   "source": [
    "cols.append('PM2.5 (µg/m³)')"
   ]
  },
  {
   "cell_type": "code",
   "execution_count": 28,
   "id": "59201bd7-4407-4add-a7d6-39114b6e4f2a",
   "metadata": {},
   "outputs": [
    {
     "data": {
      "text/plain": [
       "['PM10 (µg/m³)', 'PM2.5 (µg/m³)']"
      ]
     },
     "execution_count": 28,
     "metadata": {},
     "output_type": "execute_result"
    }
   ],
   "source": [
    "cols"
   ]
  },
  {
   "cell_type": "code",
   "execution_count": 29,
   "id": "45497207-3f40-4238-a562-23ba3810e930",
   "metadata": {},
   "outputs": [
    {
     "data": {
      "text/plain": [
       "array([0.09568381, 0.00689105])"
      ]
     },
     "execution_count": 29,
     "metadata": {},
     "output_type": "execute_result"
    }
   ],
   "source": [
    "df_corr = df[cols]\n",
    "df_corr.index = df['Timestamp']\n",
    "from statsmodels.tsa.vector_ar.vecm import coint_johansen\n",
    "johan_test_temp = df_corr\n",
    "coint_johansen(johan_test_temp,-1,1).eig"
   ]
  },
  {
   "cell_type": "code",
   "execution_count": 30,
   "id": "682a5d39-8212-4090-9ca1-7ae2fb72b266",
   "metadata": {},
   "outputs": [
    {
     "data": {
      "text/html": [
       "<div>\n",
       "<style scoped>\n",
       "    .dataframe tbody tr th:only-of-type {\n",
       "        vertical-align: middle;\n",
       "    }\n",
       "\n",
       "    .dataframe tbody tr th {\n",
       "        vertical-align: top;\n",
       "    }\n",
       "\n",
       "    .dataframe thead th {\n",
       "        text-align: right;\n",
       "    }\n",
       "</style>\n",
       "<table border=\"1\" class=\"dataframe\">\n",
       "  <thead>\n",
       "    <tr style=\"text-align: right;\">\n",
       "      <th></th>\n",
       "      <th>PM10 (µg/m³)</th>\n",
       "      <th>PM2.5 (µg/m³)</th>\n",
       "    </tr>\n",
       "    <tr>\n",
       "      <th>Timestamp</th>\n",
       "      <th></th>\n",
       "      <th></th>\n",
       "    </tr>\n",
       "  </thead>\n",
       "  <tbody>\n",
       "    <tr>\n",
       "      <th>2024-01-01 00:00:00</th>\n",
       "      <td>202.85</td>\n",
       "      <td>114.00</td>\n",
       "    </tr>\n",
       "    <tr>\n",
       "      <th>2024-01-01 01:00:00</th>\n",
       "      <td>198.10</td>\n",
       "      <td>120.10</td>\n",
       "    </tr>\n",
       "    <tr>\n",
       "      <th>2024-01-01 02:00:00</th>\n",
       "      <td>189.50</td>\n",
       "      <td>114.50</td>\n",
       "    </tr>\n",
       "    <tr>\n",
       "      <th>2024-01-01 03:00:00</th>\n",
       "      <td>180.95</td>\n",
       "      <td>106.20</td>\n",
       "    </tr>\n",
       "    <tr>\n",
       "      <th>2024-01-01 04:00:00</th>\n",
       "      <td>176.30</td>\n",
       "      <td>102.60</td>\n",
       "    </tr>\n",
       "    <tr>\n",
       "      <th>2024-01-01 05:00:00</th>\n",
       "      <td>NaN</td>\n",
       "      <td>95.75</td>\n",
       "    </tr>\n",
       "    <tr>\n",
       "      <th>2024-01-01 06:00:00</th>\n",
       "      <td>NaN</td>\n",
       "      <td>88.00</td>\n",
       "    </tr>\n",
       "    <tr>\n",
       "      <th>2024-01-01 07:00:00</th>\n",
       "      <td>NaN</td>\n",
       "      <td>86.70</td>\n",
       "    </tr>\n",
       "    <tr>\n",
       "      <th>2024-01-01 08:00:00</th>\n",
       "      <td>NaN</td>\n",
       "      <td>94.80</td>\n",
       "    </tr>\n",
       "    <tr>\n",
       "      <th>2024-01-01 09:00:00</th>\n",
       "      <td>NaN</td>\n",
       "      <td>103.70</td>\n",
       "    </tr>\n",
       "    <tr>\n",
       "      <th>2024-01-01 10:00:00</th>\n",
       "      <td>NaN</td>\n",
       "      <td>101.60</td>\n",
       "    </tr>\n",
       "    <tr>\n",
       "      <th>2024-01-01 11:00:00</th>\n",
       "      <td>NaN</td>\n",
       "      <td>98.40</td>\n",
       "    </tr>\n",
       "    <tr>\n",
       "      <th>2024-01-01 12:00:00</th>\n",
       "      <td>210.30</td>\n",
       "      <td>108.25</td>\n",
       "    </tr>\n",
       "    <tr>\n",
       "      <th>2024-01-01 13:00:00</th>\n",
       "      <td>210.30</td>\n",
       "      <td>119.10</td>\n",
       "    </tr>\n",
       "    <tr>\n",
       "      <th>2024-01-01 14:00:00</th>\n",
       "      <td>NaN</td>\n",
       "      <td>NaN</td>\n",
       "    </tr>\n",
       "    <tr>\n",
       "      <th>2024-01-01 15:00:00</th>\n",
       "      <td>201.28</td>\n",
       "      <td>101.38</td>\n",
       "    </tr>\n",
       "    <tr>\n",
       "      <th>2024-01-01 16:00:00</th>\n",
       "      <td>178.72</td>\n",
       "      <td>94.50</td>\n",
       "    </tr>\n",
       "    <tr>\n",
       "      <th>2024-01-01 17:00:00</th>\n",
       "      <td>178.53</td>\n",
       "      <td>90.35</td>\n",
       "    </tr>\n",
       "    <tr>\n",
       "      <th>2024-01-01 18:00:00</th>\n",
       "      <td>167.43</td>\n",
       "      <td>90.78</td>\n",
       "    </tr>\n",
       "    <tr>\n",
       "      <th>2024-01-01 19:00:00</th>\n",
       "      <td>189.80</td>\n",
       "      <td>100.23</td>\n",
       "    </tr>\n",
       "    <tr>\n",
       "      <th>2024-01-01 20:00:00</th>\n",
       "      <td>194.95</td>\n",
       "      <td>105.48</td>\n",
       "    </tr>\n",
       "    <tr>\n",
       "      <th>2024-01-01 21:00:00</th>\n",
       "      <td>194.40</td>\n",
       "      <td>106.12</td>\n",
       "    </tr>\n",
       "    <tr>\n",
       "      <th>2024-01-01 22:00:00</th>\n",
       "      <td>196.25</td>\n",
       "      <td>108.15</td>\n",
       "    </tr>\n",
       "    <tr>\n",
       "      <th>2024-01-01 23:00:00</th>\n",
       "      <td>214.00</td>\n",
       "      <td>127.10</td>\n",
       "    </tr>\n",
       "  </tbody>\n",
       "</table>\n",
       "</div>"
      ],
      "text/plain": [
       "                     PM10 (µg/m³)  PM2.5 (µg/m³)\n",
       "Timestamp                                       \n",
       "2024-01-01 00:00:00        202.85         114.00\n",
       "2024-01-01 01:00:00        198.10         120.10\n",
       "2024-01-01 02:00:00        189.50         114.50\n",
       "2024-01-01 03:00:00        180.95         106.20\n",
       "2024-01-01 04:00:00        176.30         102.60\n",
       "2024-01-01 05:00:00           NaN          95.75\n",
       "2024-01-01 06:00:00           NaN          88.00\n",
       "2024-01-01 07:00:00           NaN          86.70\n",
       "2024-01-01 08:00:00           NaN          94.80\n",
       "2024-01-01 09:00:00           NaN         103.70\n",
       "2024-01-01 10:00:00           NaN         101.60\n",
       "2024-01-01 11:00:00           NaN          98.40\n",
       "2024-01-01 12:00:00        210.30         108.25\n",
       "2024-01-01 13:00:00        210.30         119.10\n",
       "2024-01-01 14:00:00           NaN            NaN\n",
       "2024-01-01 15:00:00        201.28         101.38\n",
       "2024-01-01 16:00:00        178.72          94.50\n",
       "2024-01-01 17:00:00        178.53          90.35\n",
       "2024-01-01 18:00:00        167.43          90.78\n",
       "2024-01-01 19:00:00        189.80         100.23\n",
       "2024-01-01 20:00:00        194.95         105.48\n",
       "2024-01-01 21:00:00        194.40         106.12\n",
       "2024-01-01 22:00:00        196.25         108.15\n",
       "2024-01-01 23:00:00        214.00         127.10"
      ]
     },
     "execution_count": 30,
     "metadata": {},
     "output_type": "execute_result"
    }
   ],
   "source": [
    "colums = [i.split()[0] for i in cols]\n",
    "val = pd.read_excel(\"C:/Users/DHAN RAJ/Downloads/kolkata_hourly_Jan_1.xlsx\")\n",
    "val['Timestamp'] = pd.to_datetime(val['Timestamp'])\n",
    "val.set_index('Timestamp', inplace=True)\n",
    "val = val[colums]\n",
    "val.columns = cols\n",
    "val"
   ]
  },
  {
   "cell_type": "code",
   "execution_count": 31,
   "id": "8442e9a1-c29c-46ef-92d4-739f49410eca",
   "metadata": {},
   "outputs": [],
   "source": [
    "from sklearn.preprocessing import MinMaxScaler\n",
    "scaler = MinMaxScaler(feature_range=(0,1))\n",
    "# scaling dataset\n",
    "scaled_train = scaler.fit_transform(df_corr)\n",
    "\n",
    "# Normalizing values between 0 and 1\n",
    "scaled_test = scaler.transform(val)"
   ]
  },
  {
   "cell_type": "code",
   "execution_count": 32,
   "id": "76581c98-7d56-47f2-b523-65b72db3f643",
   "metadata": {},
   "outputs": [
    {
     "data": {
      "text/plain": [
       "  Summary of Regression Results   \n",
       "==================================\n",
       "Model:                         VAR\n",
       "Method:                        OLS\n",
       "Date:           Sat, 27, Apr, 2024\n",
       "Time:                     18:38:25\n",
       "--------------------------------------------------------------------\n",
       "No. of Equations:         2.00000    BIC:                   -15.2828\n",
       "Nobs:                     26279.0    HQIC:                  -15.2841\n",
       "Log likelihood:           126263.    FPE:                2.30115e-07\n",
       "AIC:                     -15.2847    Det(Omega_mle):     2.30062e-07\n",
       "--------------------------------------------------------------------\n",
       "Results for equation y1\n",
       "========================================================================\n",
       "           coefficient       std. error           t-stat            prob\n",
       "------------------------------------------------------------------------\n",
       "const         0.006023         0.000257           23.448           0.000\n",
       "L1.y1         0.813134         0.005703          142.586           0.000\n",
       "L1.y2         0.121509         0.004704           25.833           0.000\n",
       "========================================================================\n",
       "\n",
       "Results for equation y2\n",
       "========================================================================\n",
       "           coefficient       std. error           t-stat            prob\n",
       "------------------------------------------------------------------------\n",
       "const         0.001767         0.000266            6.656           0.000\n",
       "L1.y1         0.137616         0.005894           23.348           0.000\n",
       "L1.y2         0.858625         0.004861          176.620           0.000\n",
       "========================================================================\n",
       "\n",
       "Correlation matrix of residuals\n",
       "            y1        y2\n",
       "y1    1.000000  0.659951\n",
       "y2    0.659951  1.000000\n",
       "\n"
      ]
     },
     "execution_count": 32,
     "metadata": {},
     "output_type": "execute_result"
    }
   ],
   "source": [
    "#fit the model\n",
    "from statsmodels.tsa.vector_ar.var_model import VAR\n",
    "\n",
    "model = VAR(endog=scaled_train)\n",
    "model_fit = model.fit()\n",
    "\n",
    "model_fit.summary()"
   ]
  },
  {
   "cell_type": "code",
   "execution_count": 33,
   "id": "52ba0de0-9ff8-4566-9deb-01ae6a1edbcd",
   "metadata": {},
   "outputs": [],
   "source": [
    "# make prediction on validation\n",
    "lag_order = model_fit.k_ar\n",
    "prediction = model_fit.forecast(scaled_train[-lag_order:], steps=24)"
   ]
  },
  {
   "cell_type": "code",
   "execution_count": 34,
   "id": "7123ce15-bd49-4ff5-9a2d-beabc9ab9642",
   "metadata": {},
   "outputs": [
    {
     "data": {
      "text/plain": [
       "array([[0.21471443, 0.24672711],\n",
       "       [0.2105945 , 0.24316149],\n",
       "       [0.20681118, 0.23953298],\n",
       "       [0.20329395, 0.23589681],\n",
       "       [0.19999214, 0.23229067],\n",
       "       [0.19686915, 0.22873997],\n",
       "       [0.1938983 , 0.22526147],\n",
       "       [0.19105993, 0.22186591],\n",
       "       [0.18833936, 0.21855979],\n",
       "       [0.18572545, 0.21534667],\n",
       "       [0.18320958, 0.2122281 ],\n",
       "       [0.18078489, 0.20920418],\n",
       "       [0.17844587, 0.2062741 ],\n",
       "       [0.1761879 , 0.20343637],\n",
       "       [0.17400706, 0.20068909],\n",
       "       [0.17189993, 0.19803008],\n",
       "       [0.16986345, 0.19545702],\n",
       "       [0.16789487, 0.19296747],\n",
       "       [0.16599165, 0.19055897],\n",
       "       [0.16415143, 0.18822906],\n",
       "       [0.16237197, 0.1859753 ],\n",
       "       [0.16065118, 0.18379528],\n",
       "       [0.15898706, 0.18168665],\n",
       "       [0.15737769, 0.17964711]])"
      ]
     },
     "execution_count": 34,
     "metadata": {},
     "output_type": "execute_result"
    }
   ],
   "source": [
    "prediction"
   ]
  },
  {
   "cell_type": "code",
   "execution_count": 35,
   "id": "166b4d3b-b84a-4af9-9771-f747db0a707e",
   "metadata": {},
   "outputs": [
    {
     "data": {
      "text/plain": [
       "array([[0.21675705, 0.2573521 ],\n",
       "       [0.21160521, 0.27122615],\n",
       "       [0.20227766, 0.25848932],\n",
       "       [0.19300434, 0.23961153],\n",
       "       [0.18796095, 0.23142357],\n",
       "       [       nan, 0.2158437 ],\n",
       "       [       nan, 0.19821684],\n",
       "       [       nan, 0.19526008],\n",
       "       [       nan, 0.21368299],\n",
       "       [       nan, 0.23392544],\n",
       "       [       nan, 0.22914913],\n",
       "       [       nan, 0.22187095],\n",
       "       [0.22483731, 0.24427411],\n",
       "       [0.22483731, 0.26895171],\n",
       "       [       nan,        nan],\n",
       "       [0.21505423, 0.22864876],\n",
       "       [0.19058568, 0.21300066],\n",
       "       [0.19037961, 0.20356176],\n",
       "       [0.17834056, 0.20453977],\n",
       "       [0.20260304, 0.22603316],\n",
       "       [0.20818872, 0.23797393],\n",
       "       [0.20759219, 0.23942957],\n",
       "       [0.2095987 , 0.24404667],\n",
       "       [0.22885033, 0.28714718]])"
      ]
     },
     "execution_count": 35,
     "metadata": {},
     "output_type": "execute_result"
    }
   ],
   "source": [
    "scaled_test"
   ]
  },
  {
   "cell_type": "code",
   "execution_count": 36,
   "id": "777f0f4d-d6f3-4713-9a33-adfc9a680d87",
   "metadata": {
    "scrolled": true
   },
   "outputs": [
    {
     "data": {
      "text/html": [
       "<div>\n",
       "<style scoped>\n",
       "    .dataframe tbody tr th:only-of-type {\n",
       "        vertical-align: middle;\n",
       "    }\n",
       "\n",
       "    .dataframe tbody tr th {\n",
       "        vertical-align: top;\n",
       "    }\n",
       "\n",
       "    .dataframe thead th {\n",
       "        text-align: right;\n",
       "    }\n",
       "</style>\n",
       "<table border=\"1\" class=\"dataframe\">\n",
       "  <thead>\n",
       "    <tr style=\"text-align: right;\">\n",
       "      <th></th>\n",
       "      <th>PM10 (µg/m³)</th>\n",
       "      <th>PM2.5 (µg/m³)</th>\n",
       "    </tr>\n",
       "    <tr>\n",
       "      <th>Timestamp</th>\n",
       "      <th></th>\n",
       "      <th></th>\n",
       "    </tr>\n",
       "  </thead>\n",
       "  <tbody>\n",
       "    <tr>\n",
       "      <th>2024-01-01 00:00:00</th>\n",
       "      <td>202.85</td>\n",
       "      <td>114.00</td>\n",
       "    </tr>\n",
       "    <tr>\n",
       "      <th>2024-01-01 01:00:00</th>\n",
       "      <td>198.10</td>\n",
       "      <td>120.10</td>\n",
       "    </tr>\n",
       "    <tr>\n",
       "      <th>2024-01-01 02:00:00</th>\n",
       "      <td>189.50</td>\n",
       "      <td>114.50</td>\n",
       "    </tr>\n",
       "    <tr>\n",
       "      <th>2024-01-01 03:00:00</th>\n",
       "      <td>180.95</td>\n",
       "      <td>106.20</td>\n",
       "    </tr>\n",
       "    <tr>\n",
       "      <th>2024-01-01 04:00:00</th>\n",
       "      <td>176.30</td>\n",
       "      <td>102.60</td>\n",
       "    </tr>\n",
       "    <tr>\n",
       "      <th>2024-01-01 05:00:00</th>\n",
       "      <td>NaN</td>\n",
       "      <td>95.75</td>\n",
       "    </tr>\n",
       "    <tr>\n",
       "      <th>2024-01-01 06:00:00</th>\n",
       "      <td>NaN</td>\n",
       "      <td>88.00</td>\n",
       "    </tr>\n",
       "    <tr>\n",
       "      <th>2024-01-01 07:00:00</th>\n",
       "      <td>NaN</td>\n",
       "      <td>86.70</td>\n",
       "    </tr>\n",
       "    <tr>\n",
       "      <th>2024-01-01 08:00:00</th>\n",
       "      <td>NaN</td>\n",
       "      <td>94.80</td>\n",
       "    </tr>\n",
       "    <tr>\n",
       "      <th>2024-01-01 09:00:00</th>\n",
       "      <td>NaN</td>\n",
       "      <td>103.70</td>\n",
       "    </tr>\n",
       "    <tr>\n",
       "      <th>2024-01-01 10:00:00</th>\n",
       "      <td>NaN</td>\n",
       "      <td>101.60</td>\n",
       "    </tr>\n",
       "    <tr>\n",
       "      <th>2024-01-01 11:00:00</th>\n",
       "      <td>NaN</td>\n",
       "      <td>98.40</td>\n",
       "    </tr>\n",
       "    <tr>\n",
       "      <th>2024-01-01 12:00:00</th>\n",
       "      <td>210.30</td>\n",
       "      <td>108.25</td>\n",
       "    </tr>\n",
       "    <tr>\n",
       "      <th>2024-01-01 13:00:00</th>\n",
       "      <td>210.30</td>\n",
       "      <td>119.10</td>\n",
       "    </tr>\n",
       "    <tr>\n",
       "      <th>2024-01-01 14:00:00</th>\n",
       "      <td>NaN</td>\n",
       "      <td>NaN</td>\n",
       "    </tr>\n",
       "    <tr>\n",
       "      <th>2024-01-01 15:00:00</th>\n",
       "      <td>201.28</td>\n",
       "      <td>101.38</td>\n",
       "    </tr>\n",
       "    <tr>\n",
       "      <th>2024-01-01 16:00:00</th>\n",
       "      <td>178.72</td>\n",
       "      <td>94.50</td>\n",
       "    </tr>\n",
       "    <tr>\n",
       "      <th>2024-01-01 17:00:00</th>\n",
       "      <td>178.53</td>\n",
       "      <td>90.35</td>\n",
       "    </tr>\n",
       "    <tr>\n",
       "      <th>2024-01-01 18:00:00</th>\n",
       "      <td>167.43</td>\n",
       "      <td>90.78</td>\n",
       "    </tr>\n",
       "    <tr>\n",
       "      <th>2024-01-01 19:00:00</th>\n",
       "      <td>189.80</td>\n",
       "      <td>100.23</td>\n",
       "    </tr>\n",
       "    <tr>\n",
       "      <th>2024-01-01 20:00:00</th>\n",
       "      <td>194.95</td>\n",
       "      <td>105.48</td>\n",
       "    </tr>\n",
       "    <tr>\n",
       "      <th>2024-01-01 21:00:00</th>\n",
       "      <td>194.40</td>\n",
       "      <td>106.12</td>\n",
       "    </tr>\n",
       "    <tr>\n",
       "      <th>2024-01-01 22:00:00</th>\n",
       "      <td>196.25</td>\n",
       "      <td>108.15</td>\n",
       "    </tr>\n",
       "    <tr>\n",
       "      <th>2024-01-01 23:00:00</th>\n",
       "      <td>214.00</td>\n",
       "      <td>127.10</td>\n",
       "    </tr>\n",
       "  </tbody>\n",
       "</table>\n",
       "</div>"
      ],
      "text/plain": [
       "                     PM10 (µg/m³)  PM2.5 (µg/m³)\n",
       "Timestamp                                       \n",
       "2024-01-01 00:00:00        202.85         114.00\n",
       "2024-01-01 01:00:00        198.10         120.10\n",
       "2024-01-01 02:00:00        189.50         114.50\n",
       "2024-01-01 03:00:00        180.95         106.20\n",
       "2024-01-01 04:00:00        176.30         102.60\n",
       "2024-01-01 05:00:00           NaN          95.75\n",
       "2024-01-01 06:00:00           NaN          88.00\n",
       "2024-01-01 07:00:00           NaN          86.70\n",
       "2024-01-01 08:00:00           NaN          94.80\n",
       "2024-01-01 09:00:00           NaN         103.70\n",
       "2024-01-01 10:00:00           NaN         101.60\n",
       "2024-01-01 11:00:00           NaN          98.40\n",
       "2024-01-01 12:00:00        210.30         108.25\n",
       "2024-01-01 13:00:00        210.30         119.10\n",
       "2024-01-01 14:00:00           NaN            NaN\n",
       "2024-01-01 15:00:00        201.28         101.38\n",
       "2024-01-01 16:00:00        178.72          94.50\n",
       "2024-01-01 17:00:00        178.53          90.35\n",
       "2024-01-01 18:00:00        167.43          90.78\n",
       "2024-01-01 19:00:00        189.80         100.23\n",
       "2024-01-01 20:00:00        194.95         105.48\n",
       "2024-01-01 21:00:00        194.40         106.12\n",
       "2024-01-01 22:00:00        196.25         108.15\n",
       "2024-01-01 23:00:00        214.00         127.10"
      ]
     },
     "execution_count": 36,
     "metadata": {},
     "output_type": "execute_result"
    }
   ],
   "source": [
    "val"
   ]
  },
  {
   "cell_type": "code",
   "execution_count": 37,
   "id": "36f6f033-ddb7-4326-bde9-a5b994f3f740",
   "metadata": {},
   "outputs": [
    {
     "data": {
      "text/plain": [
       "array([[200.96670033, 109.32851061],\n",
       "       [197.16812458, 107.76081146],\n",
       "       [193.67991196, 106.16546604],\n",
       "       [190.43702178, 104.56675027],\n",
       "       [187.39275291, 102.9812398 ],\n",
       "       [184.51335463, 101.42010213],\n",
       "       [181.77422864,  99.89071113],\n",
       "       [179.15725212,  98.39778389],\n",
       "       [176.64889075,  96.94418136],\n",
       "       [174.23886827,  95.53147183],\n",
       "       [171.91922835,  94.16032748],\n",
       "       [169.68367266,  92.83080336],\n",
       "       [167.52709387,  91.54253339],\n",
       "       [165.44524574,  90.29486809],\n",
       "       [163.43451002,  89.08697114],\n",
       "       [161.49173148,  87.91788701],\n",
       "       [159.61410104,  86.78658819],\n",
       "       [157.79907269,  85.6920081 ],\n",
       "       [156.04430444,  84.63306386],\n",
       "       [154.347616  ,  83.608672  ],\n",
       "       [152.70695842,  82.61775914],\n",
       "       [151.12039213,  81.65926917],\n",
       "       [149.58607091,  80.73216804],\n",
       "       [148.10223003,  79.8354467 ]])"
      ]
     },
     "execution_count": 37,
     "metadata": {},
     "output_type": "execute_result"
    }
   ],
   "source": [
    "preds = scaler.inverse_transform(prediction)\n",
    "preds"
   ]
  },
  {
   "cell_type": "code",
   "execution_count": 38,
   "id": "4407076e-72f1-4b7a-96d9-9df12b951a47",
   "metadata": {},
   "outputs": [
    {
     "name": "stderr",
     "output_type": "stream",
     "text": [
      "C:\\Users\\DHAN RAJ\\AppData\\Local\\Temp\\ipykernel_21368\\3879252357.py:1: FutureWarning: ChainedAssignmentError: behaviour will change in pandas 3.0!\n",
      "You are setting values through chained assignment. Currently this works in certain cases, but when using Copy-on-Write (which will become the default behaviour in pandas 3.0) this will never work to update the original DataFrame or Series, because the intermediate object on which we are setting values will behave as a copy.\n",
      "A typical example is when you are setting values in a column of a DataFrame, like:\n",
      "\n",
      "df[\"col\"][row_indexer] = value\n",
      "\n",
      "Use `df.loc[row_indexer, \"col\"] = values` instead, to perform the assignment in a single step and ensure this keeps updating the original `df`.\n",
      "\n",
      "See the caveats in the documentation: https://pandas.pydata.org/pandas-docs/stable/user_guide/indexing.html#returning-a-view-versus-a-copy\n",
      "\n",
      "  val['PM2.5 (µg/m³)'].iloc[14] = sum(val['PM2.5 (µg/m³)'].iloc[9:14])/5\n"
     ]
    }
   ],
   "source": [
    "val['PM2.5 (µg/m³)'].iloc[14] = sum(val['PM2.5 (µg/m³)'].iloc[9:14])/5"
   ]
  },
  {
   "cell_type": "code",
   "execution_count": 39,
   "id": "adf51862-9d9c-44db-9b16-ce7cc1149f5c",
   "metadata": {},
   "outputs": [],
   "source": [
    "mae = np.abs(preds[:,len(cols)-1] - val['PM2.5 (µg/m³)']).mean()"
   ]
  },
  {
   "cell_type": "code",
   "execution_count": 40,
   "id": "048e0cf1-bd53-4470-b168-038ce45ef463",
   "metadata": {},
   "outputs": [
    {
     "data": {
      "text/plain": [
       "13.049276767680476"
      ]
     },
     "execution_count": 40,
     "metadata": {},
     "output_type": "execute_result"
    }
   ],
   "source": [
    "mae"
   ]
  },
  {
   "cell_type": "code",
   "execution_count": 43,
   "id": "25439eea-658c-4181-8746-ed0c79e36903",
   "metadata": {},
   "outputs": [
    {
     "data": {
      "text/plain": [
       "(26280, 2)"
      ]
     },
     "execution_count": 43,
     "metadata": {},
     "output_type": "execute_result"
    }
   ],
   "source": [
    "df_corr.values.shape"
   ]
  },
  {
   "cell_type": "code",
   "execution_count": 53,
   "id": "d75e6447-e479-4d84-a3ec-7694846c8807",
   "metadata": {},
   "outputs": [
    {
     "name": "stderr",
     "output_type": "stream",
     "text": [
      "C:\\Users\\DHAN RAJ\\miniconda3\\lib\\site-packages\\statsmodels\\tsa\\statespace\\varmax.py:160: EstimationWarning: Estimation of VARMA(p,q) models is not generically robust, due especially to identification issues.\n",
      "  warn('Estimation of VARMA(p,q) models is not generically robust,'\n",
      "C:\\Users\\DHAN RAJ\\miniconda3\\lib\\site-packages\\statsmodels\\base\\model.py:607: ConvergenceWarning: Maximum Likelihood optimization failed to converge. Check mle_retvals\n",
      "  warnings.warn(\"Maximum Likelihood optimization failed to \"\n"
     ]
    },
    {
     "data": {
      "text/plain": [
       "12.382484282736542"
      ]
     },
     "execution_count": 53,
     "metadata": {},
     "output_type": "execute_result"
    }
   ],
   "source": [
    "from statsmodels.tsa.statespace.varmax import VARMAX\n",
    "\n",
    "# Fit VARMA model\n",
    "model = VARMAX(df_corr.values, order=(2, 2))\n",
    "results = model.fit()\n",
    "\n",
    "# Forecast\n",
    "forecast = results.forecast(steps=24)\n",
    "mae = np.abs(forecast[:,len(cols)-1] - val['PM2.5 (µg/m³)']).mean()\n",
    "mae"
   ]
  },
  {
   "cell_type": "code",
   "execution_count": 49,
   "id": "28f4f7ce-d88f-45dc-9ed9-237e5275c372",
   "metadata": {},
   "outputs": [],
   "source": [
    "from statsmodels.tsa.vector_ar.vecm import VECM\n",
    "\n",
    "# Fit VECM model\n",
    "model = VECM(df_corr.values)\n",
    "results = model.fit()\n",
    "\n",
    "# Forecast\n",
    "forecast = results.predict(steps=24)\n"
   ]
  },
  {
   "cell_type": "code",
   "execution_count": 50,
   "id": "6d86baa3-aa9b-4d71-a4e1-967e3f48492a",
   "metadata": {},
   "outputs": [],
   "source": [
    "mae = np.abs(forecast[:,len(cols)-1] - val['PM2.5 (µg/m³)']).mean()"
   ]
  },
  {
   "cell_type": "code",
   "execution_count": 51,
   "id": "29cfb3be-206e-4fdb-8899-d48188d4cfa7",
   "metadata": {},
   "outputs": [
    {
     "data": {
      "text/plain": [
       "10.411376627182804"
      ]
     },
     "execution_count": 51,
     "metadata": {},
     "output_type": "execute_result"
    }
   ],
   "source": [
    "mae"
   ]
  },
  {
   "cell_type": "code",
   "execution_count": null,
   "id": "5a18488d-bb67-43d3-9595-120fd0c3b07a",
   "metadata": {},
   "outputs": [],
   "source": []
  }
 ],
 "metadata": {
  "kernelspec": {
   "display_name": "Python 3 (ipykernel)",
   "language": "python",
   "name": "python3"
  },
  "language_info": {
   "codemirror_mode": {
    "name": "ipython",
    "version": 3
   },
   "file_extension": ".py",
   "mimetype": "text/x-python",
   "name": "python",
   "nbconvert_exporter": "python",
   "pygments_lexer": "ipython3",
   "version": "3.10.10"
  }
 },
 "nbformat": 4,
 "nbformat_minor": 5
}
